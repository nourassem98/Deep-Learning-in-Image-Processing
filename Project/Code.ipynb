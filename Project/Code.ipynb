{
 "cells": [
  {
   "cell_type": "code",
   "execution_count": 1,
   "id": "b9d58fdc",
   "metadata": {},
   "outputs": [],
   "source": [
    "import tensorflow as tf\n",
    "\n",
    "from tensorflow.keras import datasets, layers, models\n",
    "import matplotlib.pyplot as plt"
   ]
  },
  {
   "cell_type": "code",
   "execution_count": null,
   "id": "5c31f867",
   "metadata": {},
   "outputs": [],
   "source": [
    "# pip install tensorflow"
   ]
  },
  {
   "cell_type": "code",
   "execution_count": 2,
   "id": "c640fcd8",
   "metadata": {},
   "outputs": [
    {
     "name": "stdout",
     "output_type": "stream",
     "text": [
      "Labels:  ['ANIMAL', 'BLOOD', 'COOKING', 'CRYING', 'DANCING', 'DINING_GROUP', 'DRIVING', 'FIGHTING', 'FOOTBALL', 'GROUP_FIGHTING', 'GROUP_TALKING', 'GUITAR', 'GUN', 'LAUGHING', 'PIANO', 'RIDING', 'RUNNING', 'SMOKING', 'SWIMMING', 'TALKING', 'TALKING_GROUP', 'WALKING']\n",
      "Class Dimensions:  (400, 480, 640, 3)\n"
     ]
    }
   ],
   "source": [
    "import scipy.io\n",
    "import numpy as np\n",
    "\n",
    "dataset = scipy.io.loadmat('DLCV_data.mat')\n",
    "Labels = list(dataset.keys())[3:]\n",
    "print(\"Labels: \", Labels)\n",
    "print(\"Class Dimensions: \", dataset[Labels[0]].shape)"
   ]
  },
  {
   "cell_type": "code",
   "execution_count": 3,
   "id": "fcbf06ec",
   "metadata": {},
   "outputs": [],
   "source": [
    "animals  = dataset['ANIMAL']\n",
    "blood    = dataset['BLOOD']\n",
    "dancing  = dataset['DANCING']\n",
    "talking  =  dataset['TALKING']\n",
    "football =  dataset['FOOTBALL']\n",
    "guitar   =  dataset['GUITAR']\n",
    "gun      =  dataset['GUN']\n",
    "piano    =  dataset['PIANO']\n",
    "swimming =  dataset['SWIMMING']\n",
    "smoking  =  dataset['SMOKING']\n",
    "\n",
    "all_data = np.concatenate((animals, blood, dancing, talking, football,guitar,gun,piano,swimming,smoking), axis=0)"
   ]
  },
  {
   "cell_type": "code",
   "execution_count": 4,
   "id": "cdff78fc",
   "metadata": {},
   "outputs": [],
   "source": [
    "alo = 0 \n",
    "y_trainL = []\n",
    "for i in range(0,4000,400):\n",
    "    for j in range(0,400):\n",
    "        y_trainL.append(alo)\n",
    "    alo +=1\n",
    "    \n",
    "\n",
    "y_trainL = tf.keras.utils.to_categorical(y_trainL, num_classes=10, dtype='float32')"
   ]
  },
  {
   "cell_type": "code",
   "execution_count": 5,
   "id": "45091db3",
   "metadata": {},
   "outputs": [],
   "source": [
    "from sklearn.model_selection import train_test_split\n",
    "\n",
    "x_train, x_test, y_train, y_test = train_test_split(all_data, y_trainL, test_size=0.2)\n",
    "\n",
    "# x_validation, x_test, y_validation, y_test = train_test_split(x_rest, y_rest, test_size=test_ratio/(test_ratio + validation_ratio))"
   ]
  },
  {
   "cell_type": "code",
   "execution_count": 6,
   "id": "d6622556",
   "metadata": {},
   "outputs": [],
   "source": [
    "x_train, x_test = x_train/255.0 , x_test/255.0"
   ]
  },
  {
   "cell_type": "code",
   "execution_count": 7,
   "id": "afbce913",
   "metadata": {},
   "outputs": [],
   "source": [
    "def getString(list):\n",
    "    if(list[0]==1):\n",
    "        return \"ANIMAL\"\n",
    "    elif(list[1]==1):\n",
    "        return \"BLOOD\"\n",
    "    elif(list[2]==1):\n",
    "        return \"DANCING\"\n",
    "    elif(list[3]==1):\n",
    "        return \"TALKING\"\n",
    "    elif(list[4]==1):\n",
    "        return \"FOOTBALL\"\n",
    "    elif(list[5]==1):\n",
    "        return \"GUITAR\"\n",
    "    elif(list[6]==1):\n",
    "        return \"GUN\"\n",
    "    elif(list[7]==1):\n",
    "        return \"PIANO\"\n",
    "    elif(list[8]==1):\n",
    "        return \"SWIMMING\"\n",
    "    else:\n",
    "        return \"SMOKING\"\n"
   ]
  },
  {
   "cell_type": "code",
   "execution_count": null,
   "id": "1bdda18e",
   "metadata": {},
   "outputs": [],
   "source": [
    "# plt.figure(figsize=(50,50))\n",
    "# for i in range(25):\n",
    "#     plt.subplot(5,5,i+1)\n",
    "#     plt.xticks([])\n",
    "#     plt.yticks([])\n",
    "#     plt.grid(False)\n",
    "#     plt.imshow(x_train2[i])\n",
    "#     # The CIFAR labels happen to be arrays, \n",
    "#     # which is why you need the extra index\n",
    "#     plt.xlabel(getString(y_train[i]))\n",
    "# plt.show()"
   ]
  },
  {
   "cell_type": "code",
   "execution_count": 15,
   "id": "9cd30095",
   "metadata": {},
   "outputs": [
    {
     "data": {
      "text/plain": [
       "0"
      ]
     },
     "execution_count": 15,
     "metadata": {},
     "output_type": "execute_result"
    }
   ],
   "source": [
    "import gc\n",
    "# del all_data\n",
    "# del animals  \n",
    "# del blood    \n",
    "# del dancing  \n",
    "# del talking  \n",
    "# del football \n",
    "# del guitar   \n",
    "# del gun      \n",
    "# del piano    \n",
    "# del swimming \n",
    "# del smoking  \n",
    "# del dataset\n",
    "# del y_trainL\n",
    "\n",
    "gc.collect()"
   ]
  },
  {
   "cell_type": "code",
   "execution_count": 17,
   "id": "d7e8222a",
   "metadata": {},
   "outputs": [],
   "source": [
    "x_train = np.array(x_train)\n",
    "y_train = np.array(y_train)\n",
    "x_test = np.array(x_test)\n",
    "y_test = np.array(y_test)"
   ]
  },
  {
   "cell_type": "code",
   "execution_count": 18,
   "id": "c8f2c386",
   "metadata": {},
   "outputs": [],
   "source": [
    "model = models.Sequential()\n",
    "model.add(layers.Conv2D(32, (3, 3), activation='relu', input_shape=(480, 640, 3)))\n",
    "model.add(layers.MaxPooling2D((2, 2)))\n",
    "model.add(layers.Conv2D(64, (5, 5), activation='relu'))\n",
    "model.add(layers.MaxPooling2D((2, 2)))\n",
    "model.add(layers.Conv2D(64, (7, 7), activation='relu'))"
   ]
  },
  {
   "cell_type": "code",
   "execution_count": 19,
   "id": "1a56d4bc",
   "metadata": {},
   "outputs": [
    {
     "name": "stdout",
     "output_type": "stream",
     "text": [
      "Model: \"sequential\"\n",
      "_________________________________________________________________\n",
      " Layer (type)                Output Shape              Param #   \n",
      "=================================================================\n",
      " conv2d (Conv2D)             (None, 478, 638, 32)      896       \n",
      "                                                                 \n",
      " max_pooling2d (MaxPooling2D  (None, 239, 319, 32)     0         \n",
      " )                                                               \n",
      "                                                                 \n",
      " conv2d_1 (Conv2D)           (None, 235, 315, 64)      51264     \n",
      "                                                                 \n",
      " max_pooling2d_1 (MaxPooling  (None, 117, 157, 64)     0         \n",
      " 2D)                                                             \n",
      "                                                                 \n",
      " conv2d_2 (Conv2D)           (None, 111, 151, 64)      200768    \n",
      "                                                                 \n",
      "=================================================================\n",
      "Total params: 252,928\n",
      "Trainable params: 252,928\n",
      "Non-trainable params: 0\n",
      "_________________________________________________________________\n"
     ]
    }
   ],
   "source": [
    "model.summary()"
   ]
  },
  {
   "cell_type": "code",
   "execution_count": 20,
   "id": "08948642",
   "metadata": {},
   "outputs": [],
   "source": [
    "model.add(layers.Flatten())\n",
    "model.add(layers.Dense(64, activation='sigmoid'))\n",
    "model.add(layers.Dense(10, activation='softmax'))"
   ]
  },
  {
   "cell_type": "code",
   "execution_count": 21,
   "id": "d6c9d4fd",
   "metadata": {},
   "outputs": [
    {
     "name": "stdout",
     "output_type": "stream",
     "text": [
      "Model: \"sequential\"\n",
      "_________________________________________________________________\n",
      " Layer (type)                Output Shape              Param #   \n",
      "=================================================================\n",
      " conv2d (Conv2D)             (None, 478, 638, 32)      896       \n",
      "                                                                 \n",
      " max_pooling2d (MaxPooling2D  (None, 239, 319, 32)     0         \n",
      " )                                                               \n",
      "                                                                 \n",
      " conv2d_1 (Conv2D)           (None, 235, 315, 64)      51264     \n",
      "                                                                 \n",
      " max_pooling2d_1 (MaxPooling  (None, 117, 157, 64)     0         \n",
      " 2D)                                                             \n",
      "                                                                 \n",
      " conv2d_2 (Conv2D)           (None, 111, 151, 64)      200768    \n",
      "                                                                 \n",
      " flatten (Flatten)           (None, 1072704)           0         \n",
      "                                                                 \n",
      " dense (Dense)               (None, 64)                68653120  \n",
      "                                                                 \n",
      " dense_1 (Dense)             (None, 10)                650       \n",
      "                                                                 \n",
      "=================================================================\n",
      "Total params: 68,906,698\n",
      "Trainable params: 68,906,698\n",
      "Non-trainable params: 0\n",
      "_________________________________________________________________\n"
     ]
    }
   ],
   "source": [
    "model.summary()\n",
    "# print('x_train2 ',len(x_train2))\n",
    "# print('y_train ',len(y_train))\n",
    "# print('x_test2',len(x_test2))\n",
    "# print('y_test',y_test)\n",
    "# # print('x_val',len(x_validation))\n",
    "# # print('y_val',len(y_validation))"
   ]
  },
  {
   "cell_type": "code",
   "execution_count": 22,
   "id": "6bc25f4c",
   "metadata": {},
   "outputs": [],
   "source": [
    "model.compile(optimizer='adam',loss='categorical_crossentropy',metrics=['accuracy'])"
   ]
  },
  {
   "cell_type": "code",
   "execution_count": 23,
   "id": "a63aaaf1",
   "metadata": {},
   "outputs": [
    {
     "name": "stdout",
     "output_type": "stream",
     "text": [
      "Epoch 1/10\n",
      "100/100 [==============================] - 1474s 15s/step - loss: 2.4281 - accuracy: 0.1013 - val_loss: 2.3084 - val_accuracy: 0.0900\n",
      "Epoch 2/10\n",
      "100/100 [==============================] - 1419s 14s/step - loss: 2.3071 - accuracy: 0.0962 - val_loss: 2.3045 - val_accuracy: 0.0975\n",
      "Epoch 3/10\n",
      "100/100 [==============================] - 1412s 14s/step - loss: 2.3071 - accuracy: 0.0956 - val_loss: 2.3051 - val_accuracy: 0.0975\n",
      "Epoch 4/10\n",
      "100/100 [==============================] - 1411s 14s/step - loss: 2.3118 - accuracy: 0.1041 - val_loss: 2.3139 - val_accuracy: 0.1037\n",
      "Epoch 5/10\n",
      "100/100 [==============================] - 1408s 14s/step - loss: 2.3084 - accuracy: 0.0988 - val_loss: 2.3247 - val_accuracy: 0.0975\n",
      "Epoch 6/10\n",
      "100/100 [==============================] - 1433s 14s/step - loss: 2.3097 - accuracy: 0.0962 - val_loss: 2.3031 - val_accuracy: 0.0950\n",
      "Epoch 7/10\n",
      "100/100 [==============================] - 1410s 14s/step - loss: 2.3103 - accuracy: 0.1056 - val_loss: 2.3052 - val_accuracy: 0.1000\n",
      "Epoch 8/10\n",
      "100/100 [==============================] - 1391s 14s/step - loss: 2.3071 - accuracy: 0.1059 - val_loss: 2.3032 - val_accuracy: 0.1063\n",
      "Epoch 9/10\n",
      "100/100 [==============================] - 1409s 14s/step - loss: 2.3060 - accuracy: 0.1066 - val_loss: 2.3082 - val_accuracy: 0.0887\n",
      "Epoch 10/10\n",
      "100/100 [==============================] - 1398s 14s/step - loss: 2.3067 - accuracy: 0.1072 - val_loss: 2.3025 - val_accuracy: 0.1013\n"
     ]
    }
   ],
   "source": [
    "history = model.fit(x_train, y_train, epochs=10, \n",
    "                    validation_data=(x_test, y_test))"
   ]
  },
  {
   "cell_type": "code",
   "execution_count": 25,
   "id": "20c65536",
   "metadata": {},
   "outputs": [
    {
     "name": "stdout",
     "output_type": "stream",
     "text": [
      "25/25 - 93s - loss: 2.3025 - accuracy: 0.1013 - 93s/epoch - 4s/step\n"
     ]
    },
    {
     "data": {
      "image/png": "[encoded data removed]",
      "text/plain": [
       "<Figure size 432x288 with 1 Axes>"
      ]
     },
     "metadata": {
      "needs_background": "light"
     },
     "output_type": "display_data"
    }
   ],
   "source": [
    "plt.plot(history.history['accuracy'], label='accuracy')\n",
    "plt.plot(history.history['val_accuracy'], label = 'val_accuracy')\n",
    "plt.xlabel('Epoch')\n",
    "plt.ylabel('Accuracy')\n",
    "plt.ylim([0, 0.5])\n",
    "plt.legend(loc='lower right')\n",
    "\n",
    "test_loss, test_acc = model.evaluate(x_test,y_test, verbose=2)\n",
    "# test_loss, test_acc = model.evaluate(test_images,  test_labels, verbose=2)"
   ]
  },
  {
   "cell_type": "code",
   "execution_count": null,
   "id": "7170d1c1",
   "metadata": {},
   "outputs": [],
   "source": [
    "import gc\n",
    "del x_train2\n",
    "gc.collect()"
   ]
  },
  {
   "cell_type": "code",
   "execution_count": 26,
   "id": "09cf6326",
   "metadata": {},
   "outputs": [
    {
     "name": "stdout",
     "output_type": "stream",
     "text": [
      "0.10125000029802322\n"
     ]
    }
   ],
   "source": [
    "print(test_acc)"
   ]
  }
 ],
 "metadata": {
  "kernelspec": {
   "display_name": "Python 3 (ipykernel)",
   "language": "python",
   "name": "python3"
  },
  "language_info": {
   "codemirror_mode": {
    "name": "ipython",
    "version": 3
   },
   "file_extension": ".py",
   "mimetype": "text/x-python",
   "name": "python",
   "nbconvert_exporter": "python",
   "pygments_lexer": "ipython3",
   "version": "3.9.7"
  }
 },
 "nbformat": 4,
 "nbformat_minor": 5
}
